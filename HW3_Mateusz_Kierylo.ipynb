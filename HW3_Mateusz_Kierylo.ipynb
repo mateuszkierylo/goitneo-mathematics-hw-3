{
  "nbformat": 4,
  "nbformat_minor": 0,
  "metadata": {
    "colab": {
      "provenance": []
    },
    "kernelspec": {
      "name": "python3",
      "display_name": "Python 3"
    },
    "language_info": {
      "name": "python"
    }
  },
  "cells": [
    {
      "cell_type": "markdown",
      "source": [
        "**TASK 1**\n",
        "\n",
        "Consider a billiard table as a plane. The billiard ball speed before hitting the cushion was (3,2). After hitting the cushion the ball moved at the speed described by the vector (0,-4). What is the speed of the ball after hitting the cushion? Formulate this task calculations graphically and with the help of the NumPy library.\n",
        "\n",
        "Calculate the angle of the hit of the ball.\n"
      ],
      "metadata": {
        "id": "0Afy9PFa21Pr"
      }
    },
    {
      "cell_type": "code",
      "source": [
        "# calculating the new speed of the ball\n",
        "import numpy as np\n",
        "\n",
        "# defining velocity vectors\n",
        "a = np.array([3,2])\n",
        "b = np.array([0,-4])\n",
        "\n",
        "# calculating vector sum (final velocity)\n",
        "c = a + b\n",
        "\n",
        "print (f'Sum of vectors: {c}')\n"
      ],
      "metadata": {
        "colab": {
          "base_uri": "https://localhost:8080/"
        },
        "id": "svTWcyvU28LA",
        "outputId": "502a095b-2e4e-4b7f-b159-d53bc51c1d42"
      },
      "execution_count": 2,
      "outputs": [
        {
          "output_type": "stream",
          "name": "stdout",
          "text": [
            "Sum of vectors: [ 3 -2]\n"
          ]
        }
      ]
    },
    {
      "cell_type": "code",
      "execution_count": 3,
      "metadata": {
        "colab": {
          "base_uri": "https://localhost:8080/"
        },
        "id": "JVXNfz5J2bUj",
        "outputId": "2bc404d3-91b4-4954-91f0-20839ddeb8ce"
      },
      "outputs": [
        {
          "output_type": "stream",
          "name": "stdout",
          "text": [
            "Cosine of the angle:-0.5547001962252291\n",
            "Value of the angle (rads) 2.1587989303424644\n"
          ]
        }
      ],
      "source": [
        "# calculating the angle of the hit of the ball\n",
        "\n",
        "from numpy import linalg as LA\n",
        "\n",
        "cos_angle = np.dot(a, b) / LA.norm(a) / LA.norm(b)\n",
        "\n",
        "print(f\"Cosine of the angle:{cos_angle}\")\n",
        "print(f\"Value of the angle (rads): {np.arccos(cos_angle)}\")"
      ]
    },
    {
      "cell_type": "code",
      "source": [
        "import matplotlib.pyplot as plt\n",
        "\n",
        "plt.figure()\n",
        "\n",
        "# Drawing vector a\n",
        "plt.quiver(0, 0, a[0], a[1], angles='xy', scale_units='xy', scale=1, color='r', label='a [3,2]')\n",
        "\n",
        "# Drawing vector b\n",
        "plt.quiver(a[0], a[1], b[0], b[1], angles='xy', scale_units='xy', scale=1, color='b', label='b [0,-4]')\n",
        "\n",
        "# Drawing vector c\n",
        "plt.quiver(0, 0, c[0], c[1], angles='xy', scale_units='xy', scale=1, color='g', label='c [3,-2]')\n",
        "\n",
        "plt.xlim(-1, 5)\n",
        "plt.ylim(-5, 3)\n",
        "plt.axhline(0, color='black',linewidth=0.5)\n",
        "plt.axvline(0, color='black',linewidth=0.5)\n",
        "plt.grid(True)\n",
        "plt.legend()\n",
        "plt.show()"
      ],
      "metadata": {
        "colab": {
          "base_uri": "https://localhost:8080/",
          "height": 435
        },
        "id": "rPmoG53U5J3w",
        "outputId": "2de75510-f8c9-46b1-e01c-7ba6ea11e708"
      },
      "execution_count": 5,
      "outputs": [
        {
          "output_type": "display_data",
          "data": {
            "text/plain": [
              "<Figure size 640x480 with 1 Axes>"
            ],
            "image/png": "[encoded data removed]"
          },
          "metadata": {}
        }
      ]
    },
    {
      "cell_type": "markdown",
      "source": [
        "**TASK 2**\n",
        "\n",
        "Two billiard balls collided. The first ball was rolling at the speed that can be described by the vector (0,5). And after the collision, the ball rolls at speed (1,2). Let's assume that there was no momentum loss during the collision (that is, the sum of the the vector moduli remained unchanged, and the product of the speed vectors of the balls gives the primary vector). What is the speed vector of the second ball (primary vector)?"
      ],
      "metadata": {
        "id": "8MX8eXbE6FMr"
      }
    },
    {
      "cell_type": "code",
      "source": [
        "# defining initial velocity of the first ball\n",
        "\n",
        "a = np.array([0, 5])"
      ],
      "metadata": {
        "id": "0SeQcL8z627o"
      },
      "execution_count": 9,
      "outputs": []
    },
    {
      "cell_type": "code",
      "source": [
        "# defining final velocity of the first ball\n",
        "\n",
        "c = np.array([1, 2])"
      ],
      "metadata": {
        "id": "Zm5oIldm8ugq"
      },
      "execution_count": 10,
      "outputs": []
    },
    {
      "cell_type": "code",
      "source": [
        "# calculating velocity of the second ball\n",
        "\n",
        "b = c - a\n",
        "\n",
        "print(f\"Velocity of the second ball: {b}\")"
      ],
      "metadata": {
        "colab": {
          "base_uri": "https://localhost:8080/"
        },
        "id": "pw-Ac_-k5LNq",
        "outputId": "707fc846-6649-41f7-e6b2-b95c3b95a5aa"
      },
      "execution_count": 11,
      "outputs": [
        {
          "output_type": "stream",
          "name": "stdout",
          "text": [
            "Velocity of the second ball: [ 1 -3]\n"
          ]
        }
      ]
    },
    {
      "cell_type": "markdown",
      "source": [
        "**TASK 3**\n",
        "\n",
        "Goods in the industry are produced at a speed that can be described by the vector (1,5,2,6,7). Due to negative force majeure events, changes for the current year can be characterized as (0,-1,0,-0,-1), but the industry still maintains a growth of 20% per year. How long will it take for the industry to completely overcome the consequences of the force majeure circumstances?"
      ],
      "metadata": {
        "id": "nPOcCnXn_ZSO"
      }
    },
    {
      "cell_type": "code",
      "source": [
        "# defining the vectors (speed vector 'a' and change vector 'b')\n",
        "\n",
        "a = np.array([1, 5, 2, 6, 7]) #represents the production speed of goods in the industry, with components indicating the speed for each type of product.\n",
        "\n",
        "b = np.array([0, -1, 0,- 0, -1]) #Indicates the changes in production speeds due to negative force majeure events over the last year"
      ],
      "metadata": {
        "id": "VZY9r8I8BErg"
      },
      "execution_count": 14,
      "outputs": []
    },
    {
      "cell_type": "code",
      "source": [
        "# checking if all elements of the speed vector are positive\n",
        "\n",
        "all_positive = np.all(a > 0)\n",
        "print(all_positive)"
      ],
      "metadata": {
        "colab": {
          "base_uri": "https://localhost:8080/"
        },
        "id": "ZcWczIKHDS_E",
        "outputId": "95af6ccd-4b4e-41c6-a84a-a786b84d4598"
      },
      "execution_count": 16,
      "outputs": [
        {
          "output_type": "stream",
          "name": "stdout",
          "text": [
            "True\n"
          ]
        }
      ]
    },
    {
      "cell_type": "code",
      "source": [
        "# calculating the growth vector 'da'\n",
        "\n",
        "growth_rate = 0.2\n",
        "da = a * growth_rate\n",
        "\n",
        "print(da)"
      ],
      "metadata": {
        "colab": {
          "base_uri": "https://localhost:8080/"
        },
        "id": "6OKS8VfCD3IY",
        "outputId": "c334d6c8-ed54-4036-f074-bb3f5fc74cfc"
      },
      "execution_count": 30,
      "outputs": [
        {
          "output_type": "stream",
          "name": "stdout",
          "text": [
            "[0.2 1.  0.4 1.2 1.4]\n"
          ]
        }
      ]
    },
    {
      "cell_type": "code",
      "source": [
        "# calculation of effective change vector:\n",
        "\n",
        "change = da + b\n",
        "print(change)"
      ],
      "metadata": {
        "colab": {
          "base_uri": "https://localhost:8080/"
        },
        "id": "94-EyyQiEdIN",
        "outputId": "2a3976ac-ae0a-42df-f82a-76c030c08b27"
      },
      "execution_count": 37,
      "outputs": [
        {
          "output_type": "stream",
          "name": "stdout",
          "text": [
            "[0.2 0.  0.4 1.2 0.4]\n"
          ]
        }
      ]
    },
    {
      "cell_type": "code",
      "source": [
        "# Initializing the difference vector and years counter\n",
        "\n",
        "difference = -b\n",
        "years = 0"
      ],
      "metadata": {
        "id": "n8ubG5VIHFcV"
      },
      "execution_count": 43,
      "outputs": []
    },
    {
      "cell_type": "code",
      "source": [
        "# Loop to accumulate changes until all components of the difference are non-negative\n",
        "while not np.all(difference >= 0):\n",
        "    years += 1\n",
        "    difference += change  # Add the yearly effective change\n",
        "print(difference)\n",
        "\n",
        "# conclusion: The industry will completely overcome the negative force majeure events within the same year they occurred, thanks to the growth rate of 20%."
      ],
      "metadata": {
        "colab": {
          "base_uri": "https://localhost:8080/"
        },
        "id": "Js8QZx7MHkEB",
        "outputId": "31df37bb-508f-4b2f-ca2d-cf9994347f9e"
      },
      "execution_count": 44,
      "outputs": [
        {
          "output_type": "stream",
          "name": "stdout",
          "text": [
            "[0 1 0 0 1]\n"
          ]
        }
      ]
    }
  ]
}